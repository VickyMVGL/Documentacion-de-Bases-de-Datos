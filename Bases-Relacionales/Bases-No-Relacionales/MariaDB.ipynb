{
 "cells": [
  {
   "cell_type": "markdown",
   "metadata": {},
   "source": [
    "# MariaDB\n",
    "\n",
    "MariaDB es un sistema de gestión de bases de datos relacionales (RDBMS) de código abierto, derivado de MySQL. Fue creado por los desarrolladores originales de MySQL después de la adquisición de MySQL por parte de Oracle. MariaDB es compatible con MySQL, lo que significa que la mayoría de las aplicaciones y herramientas diseñadas para MySQL funcionan sin modificaciones en MariaDB.\n",
    "\n",
    "## Características Principales\n",
    "\n",
    "### Compatibilidad con MySQL:\n",
    "\n",
    "-  MariaDB es altamente compatible con MySQL, lo que permite migrar aplicaciones existentes sin cambios significativos.\n",
    "-  Soporta la mayoría de los comandos SQL, APIs y herramientas de MySQL.\n",
    "\n",
    "### Motores de Almacenamiento:\n",
    "\n",
    "-  InnoDB: Motor transaccional por defecto, soporta ACID (Atomicidad, Consistencia, Aislamiento, Durabilidad).\n",
    "-  Aria: Motor no transaccional optimizado para operaciones de lectura y escritura.\n",
    "-  MyRocks: Motor optimizado para almacenamiento en disco con alta compresión.\n",
    "-  ColumnStore: Motor diseñado para análisis de datos en grandes volúmenes.\n",
    "\n",
    "### Replicación y Escalabilidad:\n",
    "\n",
    "-  Soporta replicación maestro-esclavo y maestro-maestro.\n",
    "-  Incluye Galera Cluster para replicación síncrona multi-maestro.\n",
    "\n",
    "### Seguridad:\n",
    "\n",
    "-  Encriptación de datos en reposo y en tránsito.\n",
    "-  Autenticación mediante plugins (PAM, LDAP, etc.).\n",
    "-  Auditoría de operaciones.\n",
    "\n",
    "### Optimización de Consultas:\n",
    "\n",
    "-  Optimizador de consultas avanzado.\n",
    "-  Soporte para índices full-text, particionamiento de tablas y vistas materializadas.\n",
    "\n",
    "### Herramientas de Monitoreo y Administración:\n",
    "\n",
    "-  MariaDB Monitor: Herramienta integrada para monitorear el rendimiento.\n",
    "\n",
    "-  MariaDB MaxScale: Proxy de bases de datos para balanceo de carga y enrutamiento."
   ]
  }
 ],
 "metadata": {
  "language_info": {
   "name": "python"
  }
 },
 "nbformat": 4,
 "nbformat_minor": 2
}
