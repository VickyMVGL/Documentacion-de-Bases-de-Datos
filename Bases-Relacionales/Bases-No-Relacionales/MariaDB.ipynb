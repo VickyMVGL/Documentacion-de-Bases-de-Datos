{
 "cells": [
  {
   "cell_type": "markdown",
   "metadata": {},
   "source": [
    "# MariaDB\n",
    "\n",
    "MariaDB es un sistema de gestión de bases de datos relacionales (RDBMS) de código abierto, derivado de MySQL. Fue creado por los desarrolladores originales de MySQL después de la adquisición de MySQL por parte de Oracle. MariaDB es compatible con MySQL, lo que significa que la mayoría de las aplicaciones y herramientas diseñadas para MySQL funcionan sin modificaciones en MariaDB.\n",
    "\n",
    "## Características Principales\n",
    "\n",
    "### Compatibilidad con MySQL:\n",
    "\n",
    "-  MariaDB es altamente compatible con MySQL, lo que permite migrar aplicaciones existentes sin cambios significativos.\n",
    "-  Soporta la mayoría de los comandos SQL, APIs y herramientas de MySQL.\n",
    "\n",
    "### Motores de Almacenamiento:\n",
    "\n",
    "-  InnoDB: Motor transaccional por defecto, soporta ACID (Atomicidad, Consistencia, Aislamiento, Durabilidad).\n",
    "-  Aria: Motor no transaccional optimizado para operaciones de lectura y escritura.\n",
    "-  MyRocks: Motor optimizado para almacenamiento en disco con alta compresión.\n",
    "-  ColumnStore: Motor diseñado para análisis de datos en grandes volúmenes.\n",
    "\n",
    "### Replicación y Escalabilidad:\n",
    "\n",
    "-  Soporta replicación maestro-esclavo y maestro-maestro.\n",
    "-  Incluye Galera Cluster para replicación síncrona multi-maestro.\n",
    "\n",
    "### Seguridad:\n",
    "\n",
    "-  Encriptación de datos en reposo y en tránsito.\n",
    "-  Autenticación mediante plugins (PAM, LDAP, etc.).\n",
    "-  Auditoría de operaciones.\n",
    "\n",
    "### Optimización de Consultas:\n",
    "\n",
    "-  Optimizador de consultas avanzado.\n",
    "-  Soporte para índices full-text, particionamiento de tablas y vistas materializadas.\n",
    "\n",
    "### Herramientas de Monitoreo y Administración:\n",
    "\n",
    "-  MariaDB Monitor: Herramienta integrada para monitorear el rendimiento.\n",
    "\n",
    "-  MariaDB MaxScale: Proxy de bases de datos para balanceo de carga y enrutamiento.\n",
    "\n",
    "## Arquitectura de MariaDB\n",
    "\n",
    "MariaDB sigue una arquitectura cliente-servidor, donde el servidor maneja las solicitudes de los clientes y gestiona el almacenamiento y recuperación de datos. Esta arquitectura está diseñada para ser modular, escalable y eficiente. Sus componentes principales son:\n",
    "\n",
    "### Cliente\n",
    "Los clientes son aplicaciones o herramientas que interactúan con el servidor MariaDB para realizar consultas, actualizaciones o administrar la base de datos.\n",
    "\n",
    "Ejemplos de clientes:\n",
    "\n",
    "-  CLI (Command Line Interface): Herramienta mysql para ejecutar comandos SQL.\n",
    "-  Interfaces gráficas: phpMyAdmin, HeidiSQL, DBeaver.\n",
    "-  Aplicaciones personalizadas: Programas escritos en PHP, Python, Java, etc., que usan conectores como MySQL Connector.\n",
    "\n",
    "### Servidor MariaDB\n",
    "\n",
    "El servidor es el núcleo de MariaDB. Gestiona las conexiones, ejecuta consultas SQL y administra el almacenamiento de datos.\n",
    "Está compuesto por varios subsistemas que trabajan juntos para procesar las solicitudes de los clientes.\n",
    "\n",
    "### Motores de Almacenamiento\n",
    "\n",
    "MariaDB es modular y permite usar diferentes motores de almacenamiento para gestionar cómo se almacenan y recuperan los datos.\n",
    "\n",
    "Cada tabla puede usar un motor de almacenamiento diferente, lo que permite optimizar el rendimiento según el tipo de operaciones que se realicen.\n",
    "\n",
    "Ejemplos de motores:\n",
    "\n",
    "-  InnoDB: Motor transaccional por defecto, soporta ACID y es ideal para aplicaciones con alta concurrencia.\n",
    "-  Aria: Motor no transaccional optimizado para operaciones de lectura y escritura.\n",
    "-  MyRocks: Motor optimizado para almacenamiento en disco con alta compresión.\n",
    "-  ColumnStore: Diseñado para análisis de datos en grandes volúmenes.\n",
    "\n",
    "### API de Conexión\n",
    "\n",
    "MariaDB proporciona APIs para que los clientes se comuniquen con el servidor.\n",
    " \n",
    "Ejemplos de APIs:\n",
    "\n",
    "-  MySQL Connector: Para aplicaciones en Java.\n",
    "-  ODBC/JDBC: Para conexiones desde aplicaciones empresariales.\n",
    "-  APIs para lenguajes: PHP (mysqli, PDO), Python (mysql-connector-python), etc.\n",
    "\n",
    "## Comandos Basicos\n",
    "\n",
    "Conexión al Servidor:"
   ]
  },
  {
   "cell_type": "code",
   "execution_count": null,
   "metadata": {
    "vscode": {
     "languageId": "plaintext"
    }
   },
   "outputs": [],
   "source": [
    "mysql -u usuario -p"
   ]
  },
  {
   "cell_type": "markdown",
   "metadata": {},
   "source": [
    "### Gestión de Bases de Datos:\n",
    "Crear una base de datos:"
   ]
  },
  {
   "cell_type": "code",
   "execution_count": null,
   "metadata": {
    "vscode": {
     "languageId": "plaintext"
    }
   },
   "outputs": [],
   "source": [
    "CREATE DATABASE nombre_db;"
   ]
  },
  {
   "cell_type": "markdown",
   "metadata": {},
   "source": [
    "Eliminar una base de datos"
   ]
  },
  {
   "cell_type": "code",
   "execution_count": null,
   "metadata": {
    "vscode": {
     "languageId": "plaintext"
    }
   },
   "outputs": [],
   "source": [
    "DROP DATABASE nombre_db;"
   ]
  },
  {
   "cell_type": "markdown",
   "metadata": {},
   "source": [
    "### Gestión de Usuarios y Permisos:\n",
    "Crear un usuario:"
   ]
  },
  {
   "cell_type": "code",
   "execution_count": null,
   "metadata": {
    "vscode": {
     "languageId": "plaintext"
    }
   },
   "outputs": [],
   "source": [
    "CREATE USER 'usuario'@'localhost' IDENTIFIED BY 'contraseña';"
   ]
  },
  {
   "cell_type": "markdown",
   "metadata": {},
   "source": [
    "Asignar permisos"
   ]
  },
  {
   "cell_type": "code",
   "execution_count": null,
   "metadata": {
    "vscode": {
     "languageId": "plaintext"
    }
   },
   "outputs": [],
   "source": [
    "GRANT ALL PRIVILEGES ON nombre_db.* TO 'usuario'@'localhost';\n",
    "FLUSH PRIVILEGES;"
   ]
  },
  {
   "cell_type": "markdown",
   "metadata": {},
   "source": [
    "### Consultas SQL:\n",
    "Seleccionar datos:"
   ]
  },
  {
   "cell_type": "code",
   "execution_count": null,
   "metadata": {
    "vscode": {
     "languageId": "plaintext"
    }
   },
   "outputs": [],
   "source": [
    "SELECT * FROM tabla;"
   ]
  },
  {
   "cell_type": "markdown",
   "metadata": {},
   "source": [
    "Insertar datos:"
   ]
  },
  {
   "cell_type": "code",
   "execution_count": null,
   "metadata": {
    "vscode": {
     "languageId": "plaintext"
    }
   },
   "outputs": [],
   "source": [
    "INSERT INTO tabla (columna1, columna2) VALUES ('valor1', 'valor2');"
   ]
  },
  {
   "cell_type": "markdown",
   "metadata": {},
   "source": [
    "Actualizar Datos"
   ]
  },
  {
   "cell_type": "code",
   "execution_count": null,
   "metadata": {
    "vscode": {
     "languageId": "plaintext"
    }
   },
   "outputs": [],
   "source": [
    "UPDATE tabla SET columna1 = 'nuevo_valor' WHERE id = 1;"
   ]
  },
  {
   "cell_type": "markdown",
   "metadata": {},
   "source": [
    "Eliminar datos:"
   ]
  },
  {
   "cell_type": "code",
   "execution_count": null,
   "metadata": {
    "vscode": {
     "languageId": "plaintext"
    }
   },
   "outputs": [],
   "source": [
    "DELETE FROM tabla WHERE id = 1;"
   ]
  }
 ],
 "metadata": {
  "language_info": {
   "name": "python"
  }
 },
 "nbformat": 4,
 "nbformat_minor": 2
}
