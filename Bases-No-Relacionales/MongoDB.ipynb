{
 "cells": [
  {
   "cell_type": "markdown",
   "metadata": {},
   "source": [
    "# MongoDB\n",
    "\n",
    "MongoDB es una base de datos NoSQL orientada a documentos, diseñada para almacenar y gestionar grandes volúmenes de datos no estructurados o semiestructurados. A diferencia de las bases de datos relacionales, MongoDB utiliza un modelo de datos flexible basado en documentos JSON-like (BSON), lo que lo hace ideal para aplicaciones modernas que requieren escalabilidad y flexibilidad.\n",
    "\n",
    "## Caracteristicas Principales\n",
    "\n",
    "### Modelo de Datos Flexible:\n",
    "\n",
    "-  Almacena datos en documentos BSON (Binary JSON), lo que permite esquemas dinámicos.\n",
    "-  Ideal para datos no estructurados o que cambian con frecuencia.\n",
    "\n",
    "### Escalabilidad Horizontal:\n",
    "\n",
    "-  Soporta sharding (fragmentación) para distribuir datos en múltiples servidores.\n",
    "-  Permite escalar fácilmente para manejar grandes volúmenes de datos y tráfico.\n",
    "\n",
    "### Alta Disponibilidad:\n",
    "\n",
    "-  Replicación automática con réplicas (replica sets) para garantizar la disponibilidad y durabilidad de los datos.\n",
    "-  Failover automático en caso de fallos.\n",
    "\n",
    "### Consultas Potentes:\n",
    "\n",
    "-  Soporta consultas ad-hoc, indexación y agregaciones complejas.\n",
    "-  Lenguaje de consulta rico y expresivo.\n",
    "\n",
    "### Integración con Ecosistemas Modernos:\n",
    "\n",
    "-  Compatible con frameworks y herramientas como Node.js, Python, Java, y más.\n",
    "-  Integración con sistemas de análisis como Apache Spark y Hadoop.\n",
    "\n",
    "### Seguridad:\n",
    "\n",
    "-  Autenticación, autorización y encriptación de datos en reposo y en tránsito.\n",
    "-  Auditoría de operaciones.\n",
    "\n",
    "## Componentes Principales de la Arquitectura\n",
    "\n",
    "### Documentos y Colecciones\n",
    "\n",
    "-  **Documento:** Es la unidad básica de datos en MongoDB. Un documento es similar a un objeto JSON (pero se almacena en formato BSON, una representación binaria de JSON). Ejemplo:\n"
   ]
  },
  {
   "cell_type": "code",
   "execution_count": null,
   "metadata": {
    "vscode": {
     "languageId": "plaintext"
    }
   },
   "outputs": [],
   "source": [
    "{\n",
    "  \"_id\": 1,\n",
    "  \"nombre\": \"Juan Pérez\",\n",
    "  \"edad\": 30,\n",
    "  \"dirección\": {\n",
    "    \"ciudad\": \"Madrid\",\n",
    "    \"código_postal\": \"28001\"\n",
    "  },\n",
    "  \"intereses\": [\"fútbol\", \"viajes\"]\n",
    "}"
   ]
  },
  {
   "cell_type": "markdown",
   "metadata": {},
   "source": [
    "-  **Colección:** Es un grupo de documentos. Equivale a una tabla en bases de datos relacionales, pero sin un esquema fijo. Los documentos en una colección pueden tener estructuras diferentes.\n",
    "\n",
    "### Base de Datos\n",
    "Es un contenedor lógico para colecciones. Una instancia de MongoDB puede albergar múltiples bases de datos.\n",
    "\n",
    "Ejemplo: Una base de datos llamada tienda puede contener colecciones como clientes, productos y pedidos.\n",
    "\n",
    "### Motor de Almacenamiento\n",
    "\n",
    "MongoDB utiliza el motor de almacenamiento WiredTiger por defecto desde la versión 3.2.\n",
    "\n",
    "Características de WiredTiger:\n",
    "\n",
    "-  Soporta compresión de datos para ahorrar espacio en disco.\n",
    "-  Proporciona concurrencia a nivel de documento (varias operaciones pueden ejecutarse simultáneamente en diferentes documentos).\n",
    "-  Soporta transacciones ACID a nivel de documento y, desde MongoDB 4.0, transacciones multi-documento.\n",
    "\n",
    "### Replica Set\n",
    "Un replica set es un grupo de instancias de MongoDB que mantienen copias idénticas de los datos.\n",
    "\n",
    "Componentes de un replica set:\n",
    "-  **Primary:** El nodo primario que maneja todas las operaciones de escritura.\n",
    "-  **Secondaries:** Nodos secundarios que replican los datos del primary y pueden manejar operaciones de lectura.\n",
    "\n",
    "-  **Arbiter:** Un nodo opcional que no almacena datos, pero participa en la elección del primary en caso de fallo.\n",
    "\n",
    "**Ventajas:**\n",
    "\n",
    "-  **Alta disponibilidad:** Si el primary falla, un secondary se convierte en el nuevo primary automáticamente.\n",
    "\n",
    "-  **Redundancia:** Los datos se replican en múltiples nodos.\n",
    "\n",
    "### Sharding (Fragmentación)\n",
    "\n",
    "Sharding es una técnica para distribuir datos en múltiples servidores (llamados shards) para escalar horizontalmente.\n",
    "\n",
    "Componentes del sharding:\n",
    "\n",
    "-  **Shard:** Cada shard es una instancia de MongoDB (puede ser un replica set) que almacena un subconjunto de los datos.\n",
    "-  **Config Server:** Almacena metadatos sobre la configuración del clúster (qué datos están en qué shard).\n",
    "-  **Query Router (mongos):** Enruta las consultas a los shards correctos.\n",
    "\n",
    "**Ventajas:**\n",
    "\n",
    "-  **Escalabilidad:** Puedes agregar más shards para manejar grandes volúmenes de datos.\n",
    "-  **Distribución de carga:** Las operaciones se distribuyen entre múltiples shards.\n",
    "\n",
    "## Flujo de una Operación en MongoDB\n",
    "\n",
    "Para entender mejor la arquitectura, veamos el flujo de una operación típica en MongoDB:\n",
    "\n",
    "### 1. Conexión:\n",
    "\n",
    "El cliente (aplicación o herramienta) se conecta al servidor MongoDB mediante un driver (por ejemplo, el driver de Node.js o Python).\n",
    "\n",
    "### 2. Enrutamiento (en un clúster sharded):\n",
    "\n",
    "Si el clúster está sharded, el cliente se conecta al Query Router (mongos), que decide a qué shard enviar la consulta.\n",
    "\n",
    "### 3. Procesamiento de la Consulta:\n",
    "\n",
    "El servidor MongoDB (o el shard correspondiente) procesa la consulta.\n",
    "\n",
    "Si la consulta implica una operación de escritura, el primary del replica set la ejecuta y replica los cambios en los secondaries.\n",
    "\n",
    "### 4. Respuesta:\n",
    "\n",
    "El servidor devuelve los resultados al cliente.\n",
    "\n",
    "### 5. Persistencia:\n",
    "\n",
    "Los datos se almacenan en disco utilizando el motor de almacenamiento (WiredTiger).\n",
    "\n",
    "\n",
    "## Comandos Básicos\n",
    "\n",
    "Conexión al Servidor:"
   ]
  },
  {
   "cell_type": "code",
   "execution_count": null,
   "metadata": {
    "vscode": {
     "languageId": "plaintext"
    }
   },
   "outputs": [],
   "source": [
    "mongo"
   ]
  },
  {
   "cell_type": "markdown",
   "metadata": {},
   "source": [
    "**Gestión de Bases de Datos y Colecciones:**\n",
    "\n",
    "Crear una base de datos:"
   ]
  },
  {
   "cell_type": "code",
   "execution_count": null,
   "metadata": {
    "vscode": {
     "languageId": "plaintext"
    }
   },
   "outputs": [],
   "source": [
    "use nombre_db;"
   ]
  },
  {
   "cell_type": "markdown",
   "metadata": {},
   "source": [
    "Crear una coleccion"
   ]
  },
  {
   "cell_type": "code",
   "execution_count": null,
   "metadata": {
    "vscode": {
     "languageId": "plaintext"
    }
   },
   "outputs": [],
   "source": [
    "db.createCollection(\"nombre_coleccion\");"
   ]
  },
  {
   "cell_type": "markdown",
   "metadata": {},
   "source": [
    "Eliminar una coleccion"
   ]
  },
  {
   "cell_type": "code",
   "execution_count": null,
   "metadata": {
    "vscode": {
     "languageId": "plaintext"
    }
   },
   "outputs": [],
   "source": [
    "db.nombre_coleccion.drop();"
   ]
  },
  {
   "cell_type": "markdown",
   "metadata": {},
   "source": [
    "**Operaciones CRUD:**\n",
    "\n",
    "Insertar un documento:"
   ]
  },
  {
   "cell_type": "code",
   "execution_count": null,
   "metadata": {
    "vscode": {
     "languageId": "plaintext"
    }
   },
   "outputs": [],
   "source": [
    "db.nombre_coleccion.insert({ nombre: \"Juan Pérez\", edad: 30 });"
   ]
  },
  {
   "cell_type": "markdown",
   "metadata": {},
   "source": [
    "Consultar un documento"
   ]
  },
  {
   "cell_type": "code",
   "execution_count": null,
   "metadata": {
    "vscode": {
     "languageId": "plaintext"
    }
   },
   "outputs": [],
   "source": [
    "db.nombre_coleccion.find({ edad: { $gt: 25 } });"
   ]
  },
  {
   "cell_type": "markdown",
   "metadata": {},
   "source": [
    "Actualizar un documento"
   ]
  },
  {
   "cell_type": "code",
   "execution_count": null,
   "metadata": {
    "vscode": {
     "languageId": "plaintext"
    }
   },
   "outputs": [],
   "source": [
    "db.nombre_coleccion.update({ nombre: \"Juan Pérez\" }, { $set: { edad: 31 } });"
   ]
  },
  {
   "cell_type": "markdown",
   "metadata": {},
   "source": [
    "Eliminar un documento"
   ]
  },
  {
   "cell_type": "code",
   "execution_count": null,
   "metadata": {
    "vscode": {
     "languageId": "plaintext"
    }
   },
   "outputs": [],
   "source": [
    "db.nombre_coleccion.remove({ nombre: \"Juan Pérez\" });"
   ]
  }
 ],
 "metadata": {
  "language_info": {
   "name": "python"
  }
 },
 "nbformat": 4,
 "nbformat_minor": 2
}
