{
 "cells": [
  {
   "cell_type": "markdown",
   "metadata": {},
   "source": [
    "# ORM\n",
    "\n",
    "ORM (Object-Relational Mapping) es una técnica de programación que permite mapear objetos de un lenguaje de programación orientado a objetos (como Python, Java, o C#) a tablas de una base de datos relacional (como MySQL, PostgreSQL, o SQLite). El objetivo principal de ORM es simplificar la interacción con la base de datos, permitiendo a los desarrolladores trabajar con objetos en lugar de escribir consultas SQL manuales.\n",
    "\n",
    "## ¿Cómo Funciona ORM?\n",
    "\n",
    "ORM actúa como una capa de abstracción entre la aplicación y la base de datos. Traduce las operaciones realizadas sobre objetos en consultas SQL y viceversa. Aquí te explico el flujo básico:\n",
    "\n",
    "### 1. Definición del Modelo:\n",
    "\n",
    "El desarrollador define clases (modelos) que representan tablas en la base de datos.\n",
    "\n",
    "Cada atributo de la clase corresponde a una columna en la tabla.\n",
    "\n",
    "### 2. Operaciones sobre Objetos:\n",
    "\n",
    "El desarrollador realiza operaciones (crear, leer, actualizar, eliminar) sobre instancias de las clases.\n",
    "\n",
    "### 3. Traducción a SQL:\n",
    "\n",
    "El ORM convierte estas operaciones en consultas SQL y las ejecuta en la base de datos.\n",
    "\n",
    "### 4. Resultados como Objetos:\n",
    "\n",
    "Los resultados de las consultas se convierten en objetos del lenguaje de programación.\n",
    "\n",
    "## Ventajas de ORM\n",
    "\n",
    "-  **Productividad:** Reduce la necesidad de escribir consultas SQL manuales, lo que acelera el desarrollo.\n",
    "\n",
    "- **Portabilidad:** Permite cambiar de base de datos sin modificar el código de la aplicación (siempre que el ORM soporte el nuevo motor de base de datos).\n",
    "\n",
    "-  **Mantenibilidad:** El código es más limpio y fácil de mantener, ya que las operaciones de base de datos se expresan en términos de objetos.\n",
    "\n",
    "- **Seguridad:** Muchos ORM incluyen protección contra inyecciones SQL, ya que generan consultas parametrizadas automáticamente.\n",
    "\n",
    "-  **Abstracción:** Oculta la complejidad de las consultas SQL y las operaciones de base de datos.\n",
    "\n",
    "## Desventajsa de ORM\n",
    "\n",
    "-  **Curva de Aprendizaje:** Algunos ORM pueden ser complejos de configurar y usar, especialmente para desarrolladores sin experiencia previa.\n",
    "-  **Rendimiento:** En algunos casos, las consultas generadas por el ORM pueden ser menos eficientes que las escritas manualmente.\n",
    "-  **Limitaciones:**No todos los ORM soportan todas las funcionalidades avanzadas de las bases de datos (consultas complejas, procedimientos almacenados, etc.).\n",
    "- **Overhead:** La capa de abstracción añade un pequeño overhead en términos de rendimiento.\n",
    "\n",
    "## ORM Populares\n",
    "\n",
    "### Python: SQLAlchemy\n",
    "\n",
    "Uno de los ORM más poderosos y flexibles para Python.\n",
    "\n",
    "**Características:**\n",
    "\n",
    "- Soporta múltiples bases de datos (MySQL, PostgreSQL, SQLite, etc.).\n",
    "- Permite trabajar tanto con ORM como con SQL puro.\n",
    "\n",
    "Ejemplo:\n"
   ]
  },
  {
   "cell_type": "code",
   "execution_count": null,
   "metadata": {},
   "outputs": [],
   "source": [
    "from sqlalchemy import create_engine, Column, Integer, String\n",
    "from sqlalchemy.ext.declarative import declarative_base\n",
    "\n",
    "Base = declarative_base()\n",
    "\n",
    "class User(Base):\n",
    "    __tablename__ = 'users'\n",
    "    id = Column(Integer, primary_key=True)\n",
    "    name = Column(String)\n",
    "    age = Column(Integer)\n",
    "\n",
    "engine = create_engine('sqlite:///example.db')\n",
    "Base.metadata.create_all(engine)"
   ]
  },
  {
   "cell_type": "markdown",
   "metadata": {},
   "source": [
    "### Java: Hibernate\n",
    "\n",
    "El ORM más popular en el ecosistema Java.\n",
    "\n",
    "**Características:**\n",
    "\n",
    "- Soporta JPA (Java Persistence API).\n",
    "- Amplia documentación y comunidad.\n",
    "\n",
    "Ejemplo:"
   ]
  },
  {
   "cell_type": "code",
   "execution_count": null,
   "metadata": {
    "vscode": {
     "languageId": "java"
    }
   },
   "outputs": [],
   "source": [
    "import javax.persistence.*;\n",
    "\n",
    "@Entity\n",
    "@Table(name = \"users\")\n",
    "public class User {\n",
    "    @Id\n",
    "    @GeneratedValue(strategy = GenerationType.IDENTITY)\n",
    "    private int id;\n",
    "\n",
    "    private String name;\n",
    "    private int age;\n",
    "\n",
    "    // Getters y setters\n",
    "}"
   ]
  },
  {
   "cell_type": "markdown",
   "metadata": {},
   "source": [
    "### C#: Entity Framework (EF)\n",
    "\n",
    "ORM oficial de Microsoft para .NET.\n",
    "\n",
    "**Características:**\n",
    "\n",
    "- Integración con Visual Studio.\n",
    "- Soporte para LINQ (Language Integrated Query).\n",
    "\n",
    "Ejemplo:"
   ]
  },
  {
   "cell_type": "code",
   "execution_count": null,
   "metadata": {
    "vscode": {
     "languageId": "csharp"
    }
   },
   "outputs": [],
   "source": [
    "using System.ComponentModel.DataAnnotations;\n",
    "\n",
    "public class User\n",
    "{\n",
    "    [Key]\n",
    "    public int Id { get; set; }\n",
    "    public string Name { get; set; }\n",
    "    public int Age { get; set; }\n",
    "}"
   ]
  },
  {
   "cell_type": "markdown",
   "metadata": {},
   "source": [
    "### JavaScript/TypeScript: TypeORM\n",
    "\n",
    "ORM para Node.js y TypeScript.\n",
    "\n",
    "Características:\n",
    "\n",
    "- Soporta TypeScript y JavaScript.\n",
    "- Compatible con múltiples bases de datos.\n",
    "\n",
    "Ejemplo:"
   ]
  },
  {
   "cell_type": "code",
   "execution_count": null,
   "metadata": {
    "vscode": {
     "languageId": "typescript"
    }
   },
   "outputs": [],
   "source": [
    "import { Entity, PrimaryGeneratedColumn, Column } from \"typeorm\";\n",
    "\n",
    "@Entity()\n",
    "export class User {\n",
    "    @PrimaryGeneratedColumn()\n",
    "    id: number;\n",
    "\n",
    "    @Column()\n",
    "    name: string;\n",
    "\n",
    "    @Column()\n",
    "    age: number;\n",
    "}"
   ]
  }
 ],
 "metadata": {
  "language_info": {
   "name": "python"
  }
 },
 "nbformat": 4,
 "nbformat_minor": 2
}
