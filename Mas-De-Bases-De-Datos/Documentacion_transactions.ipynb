{
 "cells": [
  {
   "cell_type": "markdown",
   "id": "3c80b095-bb1b-4651-8c26-9f405c96ea66",
   "metadata": {},
   "source": [
    "# DOCUMANTACION BASE DE DATO TRANSACTION \n",
    "Una transacción en bases de datos es una secuencia de operaciones que \n",
    "se ejecutan como una sola unidad de trabajo. Las transacciones garantizan \n",
    "que todas las operaciones se completen correctamente o que ninguna se aplique,\n",
    "manteniendo la integridad y consistencia de los datos.\n",
    "\n",
    "# Propiedades de las Transacciones (ACID)\n",
    "- # Las transacciones deben cumplir con las propiedades ACID:\n",
    "\n",
    "- Atomicidad (Atomicity): Garantiza que todas las operaciones de una transacción se completen con éxito o que ninguna se aplique.\n",
    "\n",
    "- Consistencia (Consistency): Asegura que la base de datos pase de un estado válido a otro estado válido.\n",
    "\n",
    "- Aislamiento (Isolation): Controla cómo las operaciones de una transacción son visibles para otras transacciones.\n",
    "\n",
    "-Durabilidad (Durability): Garantiza que los cambios realizados por una transacción confirmada persistan incluso en caso de fallos del sistema.\n",
    "\n",
    "# Tipos de Transacciones\n",
    "- Transacciones Explícitas: El programador controla cuándo comienza y termina la transacción.\n",
    "\n",
    "- Transacciones Implícitas: La base de datos gestiona automáticamente el inicio y fin de la transacción.\n",
    "\n",
    "# Comandos Básicos de Transacciones\n",
    "- BEGIN TRANSACTION: Inicia una nueva transacción.\n",
    "\n",
    "- COMMIT: Confirma todas las operaciones realizadas en la transacción.\n",
    "\n",
    "- ROLLBACK: Deshace todas las operaciones realizadas en la transacción.\n",
    "\n",
    "- SAVEPOINT: Establece un punto dentro de la transacción al que se puede volver en caso de rollback.\n",
    "\n",
    "# Ejemplos de Transacciones en SQL"
   ]
  },
  {
   "cell_type": "code",
   "execution_count": null,
   "id": "cd5c5849-5f12-48fe-90b4-1422bfec1515",
   "metadata": {},
   "outputs": [],
   "source": [
    "BEGIN TRANSACTION;\n",
    "\n",
    "UPDATE cuentas SET saldo = saldo - 100 WHERE id = 1;\n",
    "UPDATE cuentas SET saldo = saldo + 100 WHERE id = 2;\n",
    "\n",
    "COMMIT;"
   ]
  },
  {
   "cell_type": "markdown",
   "id": "eea3c985-0d0f-494f-842b-86dd5f58c44e",
   "metadata": {},
   "source": [
    "- Si ocurre un error, se puede usar ROLLBACK para deshacer los cambios"
   ]
  },
  {
   "cell_type": "code",
   "execution_count": null,
   "id": "e81f9cd6-d99b-4112-9532-a307b309ff43",
   "metadata": {},
   "outputs": [],
   "source": [
    "BEGIN TRANSACTION;\n",
    "\n",
    "UPDATE cuentas SET saldo = saldo - 100 WHERE id = 1;\n",
    "UPDATE cuentas SET saldo = saldo + 100 WHERE id = 2;\n",
    "\n",
    "-- Si ocurre un error\n",
    "ROLLBACK;"
   ]
  },
  {
   "cell_type": "markdown",
   "id": "ae466b70-f832-46b1-a016-a8b89c4ef082",
   "metadata": {},
   "source": [
    "# Niveles de Aislamiento\n",
    "Los niveles de aislamiento controlan cómo las transacciones interactúan entre sí:\n",
    "\n",
    "-Read Uncommitted: Permite leer datos no confirmados de otras transacciones.\n",
    "\n",
    "- Read Committed: Solo permite leer datos confirmados.\n",
    "\n",
    "- Repeatable Read: Garantiza que las lecturas repetidas devuelvan los mismos datos.\n",
    "\n",
    "- Serializable: Aísla completamente las transacciones, como si se ejecutaran en serie.\n",
    "\n",
    "- # Ejemplo de configuración en SQL:"
   ]
  },
  {
   "cell_type": "code",
   "execution_count": null,
   "id": "c31feeae-0e5f-4d14-8cb9-0d3dadb911ff",
   "metadata": {},
   "outputs": [],
   "source": [
    "SET TRANSACTION ISOLATION LEVEL READ COMMITTED;"
   ]
  },
  {
   "cell_type": "markdown",
   "id": "0eab90d4-a350-49f1-b876-802da830cc82",
   "metadata": {},
   "source": [
    "# Transacciones en Bases de Datos No Relacionales\n",
    "Algunas bases de datos NoSQL también soportan transacciones, aunque con limitaciones:\n",
    "\n",
    "- MongoDB: Soporta transacciones multi-documento desde la versión 4.0.\n",
    "\n",
    "- Redis: Soporta transacciones simples con los comandos MULTI, EXEC, y DISCARD.\n",
    "\n",
    "# Ejemplo en Redis:"
   ]
  },
  {
   "cell_type": "code",
   "execution_count": null,
   "id": "450918cd-fb50-4b79-8787-fdedbb90af3d",
   "metadata": {},
   "outputs": [],
   "source": [
    "MULTI\n",
    "SET clave1 valor1\n",
    "SET clave2 valor2\n",
    "EXEC"
   ]
  },
  {
   "cell_type": "markdown",
   "id": "f6f4afe3-121d-44dd-ad11-cab7173385b3",
   "metadata": {},
   "source": [
    "# Manejo de Errores y Recuperación\n",
    "Es crucial manejar errores dentro de las transacciones para evitar inconsistencias:\n",
    "\n",
    "- Bloques Try-Catch: En lenguajes de programación, se usan bloques try-catch para manejar excepciones y realizar rollbacks.\n",
    "\n",
    "- Puntos de Guardado (Savepoints): Permiten deshacer solo una parte de la transacción.\n",
    "\n",
    "# Ejemplo en SQL:"
   ]
  },
  {
   "cell_type": "code",
   "execution_count": null,
   "id": "d935720b-820d-4cef-9d6b-cc0c1b5f5d6f",
   "metadata": {},
   "outputs": [],
   "source": [
    "BEGIN TRANSACTION;\n",
    "\n",
    "SAVEPOINT antes_de_transferir;\n",
    "\n",
    "UPDATE cuentas SET saldo = saldo - 100 WHERE id = 1;\n",
    "UPDATE cuentas SET saldo = saldo + 100 WHERE id = 2;\n",
    "\n",
    "-- Si ocurre un error\n",
    "ROLLBACK TO antes_de_transferir;\n",
    "\n",
    "COMMIT;"
   ]
  },
  {
   "cell_type": "markdown",
   "id": "f64fab66-d732-4161-991d-120fc5b73326",
   "metadata": {},
   "source": [
    "# Transacciones Distribuidas\n",
    "En sistemas distribuidos, las transacciones pueden involucrar múltiples bases de datos o servicios. \n",
    "Se usan protocolos como Two-Phase Commit (2PC) para garantizar la atomicidad.\n",
    "\n",
    "# Herramientas y Frameworks\n",
    "ORM (Object-Relational Mapping): Herramientas como Hibernate (Java)\n",
    "o Entity Framework (.NET) gestionan transacciones automáticamente.\n",
    "\n",
    "# Gestores de Transacciones: \n",
    "Software como Atomikos o Narayana para transacciones distribuidas.\n",
    "\n",
    "# Buenas Prácticas\n",
    "- Mantener las transacciones cortas: Reducir el tiempo de bloqueo de recursos.\n",
    "\n",
    "- Evitar bloqueos (deadlocks): Diseñar transacciones para minimizar conflictos.\n",
    "\n",
    "- Usar niveles de aislamiento adecuados: Equilibrar consistencia y rendimiento."
   ]
  }
 ],
 "metadata": {
  "kernelspec": {
   "display_name": "Python 3 (ipykernel)",
   "language": "python",
   "name": "python3"
  },
  "language_info": {
   "codemirror_mode": {
    "name": "ipython",
    "version": 3
   },
   "file_extension": ".py",
   "mimetype": "text/x-python",
   "name": "python",
   "nbconvert_exporter": "python",
   "pygments_lexer": "ipython3",
   "version": "3.13.2"
  }
 },
 "nbformat": 4,
 "nbformat_minor": 5
}
