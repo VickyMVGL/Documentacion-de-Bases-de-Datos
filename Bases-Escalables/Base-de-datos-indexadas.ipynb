{
 "cells": [
  {
   "cell_type": "markdown",
   "metadata": {},
   "source": [
    "# Bases de datos indexadas\n",
    "\n",
    "Una base de datos indexada es una base de datos que utiliza índices para mejorar la eficiencia de las operaciones de búsqueda y recuperación de datos. Los índices son estructuras de datos que permiten acceder rápidamente a los registros en una tabla sin necesidad de escanear toda la tabla. Son especialmente útiles en bases de datos grandes donde las consultas pueden volverse lentas si no se optimizan.\n",
    "\n",
    "## ¿Qué es un Índice?\n",
    "\n",
    "Un índice es una estructura de datos que almacena una copia ordenada de una o más columnas de una tabla, junto con punteros a la ubicación física de los registros correspondientes en la tabla. Al igual que un índice en un libro, un índice en una base de datos permite encontrar rápidamente la información deseada.\n",
    "\n",
    "## Tipos de Índices\n",
    "\n",
    "### Índice Simple\n",
    "Creado sobre una sola columna de una tabla.\n",
    "\n",
    "Ejemplo: Un índice en la columna id de una tabla usuarios.\n",
    "\n",
    "### Índice Compuesto\n",
    "Creado sobre múltiples columnas de una tabla.\n",
    "\n",
    "Ejemplo: Un índice en las columnas nombre y apellido de una tabla clientes.\n",
    "\n",
    "### Índice Único\n",
    "Garantiza que los valores en la columna (o columnas) indexadas sean únicos.\n",
    "\n",
    "Ejemplo: Un índice único en la columna email de una tabla usuarios.\n",
    "\n",
    "### Índice de Texto Completo\n",
    "Utilizado para búsquedas de texto en columnas de tipo TEXT o VARCHAR.\n",
    "\n",
    "Ejemplo: Un índice de texto completo en la columna descripción de una tabla productos.\n",
    "\n",
    "### Índice Hash\n",
    "Utiliza una función hash para mapear valores a ubicaciones específicas.\n",
    "\n",
    "Ideal para búsquedas exactas, pero no para consultas de rango.\n",
    "\n",
    "### Índice Espacial\n",
    "Utilizado para datos geoespaciales (como coordenadas).\n",
    "\n",
    "Ejemplo: Un índice espacial en una columna ubicación de una tabla tiendas.\n",
    "\n",
    "## Funcionamiento de los Índices\n",
    "\n",
    "### 1. Creación de un Índice\n",
    "\n",
    "Los índices se crean utilizando comandos SQL específicos.\n",
    "\n",
    "Ejemplo en SQL:"
   ]
  },
  {
   "cell_type": "code",
   "execution_count": null,
   "metadata": {
    "vscode": {
     "languageId": "sql"
    }
   },
   "outputs": [],
   "source": [
    "CREATE INDEX idx_nombre ON usuarios (nombre);"
   ]
  }
 ],
 "metadata": {
  "language_info": {
   "name": "python"
  }
 },
 "nbformat": 4,
 "nbformat_minor": 2
}
