{
 "cells": [
  {
   "cell_type": "markdown",
   "metadata": {},
   "source": [
    "# Bases de datos indexadas\n",
    "\n",
    "Una base de datos indexada es una base de datos que utiliza índices para mejorar la eficiencia de las operaciones de búsqueda y recuperación de datos. Los índices son estructuras de datos que permiten acceder rápidamente a los registros en una tabla sin necesidad de escanear toda la tabla. Son especialmente útiles en bases de datos grandes donde las consultas pueden volverse lentas si no se optimizan.\n",
    "\n",
    "## ¿Qué es un Índice?\n",
    "\n",
    "Un índice es una estructura de datos que almacena una copia ordenada de una o más columnas de una tabla, junto con punteros a la ubicación física de los registros correspondientes en la tabla. Al igual que un índice en un libro, un índice en una base de datos permite encontrar rápidamente la información deseada.\n",
    "\n",
    "## Tipos de Índices\n",
    "\n",
    "### Índice Simple\n",
    "Creado sobre una sola columna de una tabla.\n",
    "\n",
    "Ejemplo: Un índice en la columna id de una tabla usuarios.\n",
    "\n",
    "### Índice Compuesto\n",
    "Creado sobre múltiples columnas de una tabla.\n",
    "\n",
    "Ejemplo: Un índice en las columnas nombre y apellido de una tabla clientes.\n",
    "\n",
    "### Índice Único\n",
    "Garantiza que los valores en la columna (o columnas) indexadas sean únicos.\n",
    "\n",
    "Ejemplo: Un índice único en la columna email de una tabla usuarios.\n",
    "\n",
    "### Índice de Texto Completo\n",
    "Utilizado para búsquedas de texto en columnas de tipo TEXT o VARCHAR.\n",
    "\n",
    "Ejemplo: Un índice de texto completo en la columna descripción de una tabla productos.\n",
    "\n",
    "### Índice Hash\n",
    "Utiliza una función hash para mapear valores a ubicaciones específicas.\n",
    "\n",
    "Ideal para búsquedas exactas, pero no para consultas de rango.\n",
    "\n",
    "### Índice Espacial\n",
    "Utilizado para datos geoespaciales (como coordenadas).\n",
    "\n",
    "Ejemplo: Un índice espacial en una columna ubicación de una tabla tiendas.\n",
    "\n",
    "## Funcionamiento de los Índices\n",
    "\n",
    "### 1. Creación de un Índice\n",
    "\n",
    "Los índices se crean utilizando comandos SQL específicos.\n",
    "\n",
    "Ejemplo en SQL:"
   ]
  },
  {
   "cell_type": "code",
   "execution_count": null,
   "metadata": {
    "vscode": {
     "languageId": "sql"
    }
   },
   "outputs": [],
   "source": [
    "CREATE INDEX idx_nombre ON usuarios (nombre);"
   ]
  },
  {
   "cell_type": "markdown",
   "metadata": {},
   "source": [
    "### 2. Búsqueda con Índices\n",
    "\n",
    "Cuando se realiza una consulta que utiliza una columna indexada, la base de datos utiliza el índice para encontrar rápidamente los registros correspondientes.\n",
    "\n",
    "Ejemplo:"
   ]
  },
  {
   "cell_type": "code",
   "execution_count": null,
   "metadata": {
    "vscode": {
     "languageId": "sql"
    }
   },
   "outputs": [],
   "source": [
    "SELECT * FROM usuarios WHERE nombre = 'Juan';"
   ]
  },
  {
   "cell_type": "markdown",
   "metadata": {},
   "source": [
    "### 3. Mantenimiento de Índices\n",
    " \n",
    "Los índices deben actualizarse cada vez que se insertan, actualizan o eliminan registros en la tabla.\n",
    "\n",
    "Esto puede añadir un overhead en operaciones de escritura.\n",
    "\n",
    "## Ventajas de las Bases de Datos Indexadas\n",
    "\n",
    "-  **Mejora del Rendimiento:** Las consultas que utilizan columnas indexadas son mucho más rápidas, especialmente en tablas grandes.\n",
    "-  **Optimización de Consultas:** Los índices permiten a la base de datos evitar escaneos completos de la tabla (full table scans).\n",
    "-  **Facilita la Unión de Tablas:** Los índices en columnas de unión (JOIN) mejoran el rendimiento de las consultas que involucran múltiples tablas.\n",
    "-  **Soporte para Restricciones:** Los índices únicos garantizan la integridad de los datos al evitar duplicados.\n",
    "\n",
    "## Desventajas de las Bases de Datos Indexadas\n",
    "\n",
    "-  **Overhead en Operaciones de Escritura:** Cada vez que se inserta, actualiza o elimina un registro, los índices deben actualizarse, lo que puede ralentizar estas operaciones.\n",
    "-  **Uso de Espacio en Disco:** Los índices ocupan espacio adicional en disco, lo que puede ser significativo en bases de datos grandes.\n",
    "-  **Complejidad de Mantenimiento:** Gestionar múltiples índices puede volverse complejo, especialmente en bases de datos con esquemas dinámicos.\n",
    "-  **Riesgo de Índices No Utilizados:** Si un índice no se utiliza en consultas, su mantenimiento es un desperdicio de recursos.\n",
    "\n",
    "## Ejemplo de uso\n",
    "\n",
    "Se crea un indice simple"
   ]
  },
  {
   "cell_type": "code",
   "execution_count": null,
   "metadata": {
    "vscode": {
     "languageId": "sql"
    }
   },
   "outputs": [],
   "source": [
    "CREATE INDEX idx_email ON usuarios (email);"
   ]
  },
  {
   "cell_type": "markdown",
   "metadata": {},
   "source": [
    "Creacion de un indice compuesto"
   ]
  },
  {
   "cell_type": "code",
   "execution_count": null,
   "metadata": {
    "vscode": {
     "languageId": "sql"
    }
   },
   "outputs": [],
   "source": [
    "CREATE INDEX idx_nombre_apellido ON clientes (nombre, apellido);"
   ]
  },
  {
   "cell_type": "markdown",
   "metadata": {},
   "source": [
    "Creacion de un indice unico"
   ]
  },
  {
   "cell_type": "code",
   "execution_count": null,
   "metadata": {
    "vscode": {
     "languageId": "sql"
    }
   },
   "outputs": [],
   "source": [
    "CREATE UNIQUE INDEX idx_username ON usuarios (username);"
   ]
  },
  {
   "cell_type": "markdown",
   "metadata": {},
   "source": [
    "Uso de un indice en una consulta"
   ]
  },
  {
   "cell_type": "code",
   "execution_count": null,
   "metadata": {
    "vscode": {
     "languageId": "sql"
    }
   },
   "outputs": [],
   "source": [
    "SELECT * FROM productos WHERE categoria = 'Electrónica';"
   ]
  }
 ],
 "metadata": {
  "language_info": {
   "name": "python"
  }
 },
 "nbformat": 4,
 "nbformat_minor": 2
}
